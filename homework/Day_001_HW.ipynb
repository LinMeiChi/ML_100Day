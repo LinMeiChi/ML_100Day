{
 "cells": [
  {
   "cell_type": "markdown",
   "metadata": {},
   "source": [
    "## 練習時間\n",
    "#### 請寫一個函式用來計算 Mean Square Error\n",
    "$ MSE = \\frac{1}{n}\\sum_{i=1}^{n}{(Y_i - \\hat{Y}_i)^2} $\n",
    "\n",
    "### Hint: [如何取平方](https://googoodesign.gitbooks.io/-ezpython/unit-1.html)"
   ]
  },
  {
   "cell_type": "markdown",
   "metadata": {},
   "source": [
    "# [作業目標]\n",
    "- 仿造範例的MAE函數, 自己寫一個MSE函數(參考上面公式)"
   ]
  },
  {
   "cell_type": "markdown",
   "metadata": {},
   "source": [
    "# [作業重點]\n",
    "- 注意程式的縮排\n",
    "- 是否能將數學公式, 轉換為 Python 的函式組合? (In[2], Out[2])"
   ]
  },
  {
   "cell_type": "code",
   "execution_count": 2,
   "metadata": {},
   "outputs": [
    {
     "name": "stdout",
     "output_type": "stream",
     "text": [
      "Requirement already satisfied: matplotlib in c:\\users\\ntp92\\appdata\\local\\programs\\python\\python37\\lib\\site-packages (3.3.2)\n",
      "Requirement already satisfied: pillow>=6.2.0 in c:\\users\\ntp92\\appdata\\local\\programs\\python\\python37\\lib\\site-packages (from matplotlib) (8.0.1)\n",
      "Requirement already satisfied: numpy>=1.15 in c:\\users\\ntp92\\appdata\\local\\programs\\python\\python37\\lib\\site-packages (from matplotlib) (1.19.2)\n",
      "Requirement already satisfied: pyparsing!=2.0.4,!=2.1.2,!=2.1.6,>=2.0.3 in c:\\users\\ntp92\\appdata\\local\\programs\\python\\python37\\lib\\site-packages (from matplotlib) (2.4.7)\n",
      "Requirement already satisfied: python-dateutil>=2.1 in c:\\users\\ntp92\\appdata\\local\\programs\\python\\python37\\lib\\site-packages (from matplotlib) (2.8.1)\n",
      "Requirement already satisfied: certifi>=2020.06.20 in c:\\users\\ntp92\\appdata\\local\\programs\\python\\python37\\lib\\site-packages (from matplotlib) (2020.6.20)\n",
      "Requirement already satisfied: cycler>=0.10 in c:\\users\\ntp92\\appdata\\local\\programs\\python\\python37\\lib\\site-packages (from matplotlib) (0.10.0)\n",
      "Requirement already satisfied: kiwisolver>=1.0.1 in c:\\users\\ntp92\\appdata\\local\\programs\\python\\python37\\lib\\site-packages (from matplotlib) (1.2.0)\n",
      "Requirement already satisfied: six>=1.5 in c:\\users\\ntp92\\appdata\\local\\programs\\python\\python37\\lib\\site-packages (from python-dateutil>=2.1->matplotlib) (1.15.0)\n"
     ]
    }
   ],
   "source": [
    "# 載入基礎套件與代稱\n",
    "!pip install matplotlib\n",
    "import numpy as np\n",
    "import matplotlib.pyplot as plt"
   ]
  },
  {
   "cell_type": "code",
   "execution_count": 3,
   "metadata": {},
   "outputs": [],
   "source": [
    "def mean_absolute_error(y, yp):\n",
    "    \"\"\"\n",
    "    計算 MAE\n",
    "    Args:\n",
    "        - y: 實際值\n",
    "        - yp: 預測值\n",
    "    Return:\n",
    "        - mae: MAE\n",
    "    \"\"\"\n",
    "    mae = MAE = sum(abs(y - yp)) / len(y)\n",
    "    return mae\n",
    "\n",
    "# 定義 mean_squared_error 這個函數, 計算並傳回 MSE\n",
    "def mean_squared_error(y, yp):\n",
    "    \"\"\"\n",
    "    計算 MSE\n",
    "    Args:\n",
    "        - y: 實際值\n",
    "        - yp: 預測值\n",
    "    Return:\n",
    "        - mse: MSE\n",
    "    \"\"\"\n",
    "    mse = MSE = sum((y - yp) ** 2) / len(y)\n",
    "    return mse"
   ]
  },
  {
   "cell_type": "code",
   "execution_count": 4,
   "metadata": {},
   "outputs": [
    {
     "data": {
      "image/png": "[encoded data removed]",
      "text/plain": [
       "<Figure size 432x288 with 1 Axes>"
      ]
     },
     "metadata": {
      "needs_background": "light"
     },
     "output_type": "display_data"
    }
   ],
   "source": [
    "# 與範例相同, 不另外解說\n",
    "w = 3\n",
    "b = 0.5\n",
    "x_lin = np.linspace(0, 100, 101)\n",
    "y = (x_lin + np.random.randn(101) * 5) * w + b\n",
    "\n",
    "plt.plot(x_lin, y, 'b.', label = 'data points')\n",
    "plt.title(\"Assume we have data points\")\n",
    "plt.legend(loc = 2)\n",
    "plt.show()"
   ]
  },
  {
   "cell_type": "code",
   "execution_count": 5,
   "metadata": {},
   "outputs": [
    {
     "data": {
      "image/png": "[encoded data removed]",
      "text/plain": [
       "<Figure size 432x288 with 1 Axes>"
      ]
     },
     "metadata": {
      "needs_background": "light"
     },
     "output_type": "display_data"
    }
   ],
   "source": [
    "# 與範例相同, 不另外解說\n",
    "y_hat = x_lin * w + b\n",
    "plt.plot(x_lin, y, 'b.', label = 'data')\n",
    "plt.plot(x_lin, y_hat, 'r-', label = 'prediction')\n",
    "plt.title(\"Assume we have data points (And the prediction)\")\n",
    "plt.legend(loc = 2)\n",
    "plt.show()"
   ]
  },
  {
   "cell_type": "code",
   "execution_count": 6,
   "metadata": {},
   "outputs": [
    {
     "name": "stdout",
     "output_type": "stream",
     "text": [
      "The Mean squared error is 227.326\n",
      "The Mean absolute error is 12.437\n"
     ]
    }
   ],
   "source": [
    "# 執行 Function, 確認有沒有正常執行\n",
    "MSE = mean_squared_error(y, y_hat)\n",
    "MAE = mean_absolute_error(y, y_hat)\n",
    "print(\"The Mean squared error is %.3f\" % (MSE))\n",
    "print(\"The Mean absolute error is %.3f\" % (MAE))"
   ]
  },
  {
   "attachments": {},
   "cell_type": "markdown",
   "metadata": {},
   "source": [
    "# [作業2]\n",
    "\n",
    "請上 Kaggle, 在 Competitions 或 Dataset 中找一組競賽或資料並寫下：                                                                 \n",
    "挑選資料為 https://www.kaggle.com/c/predict-volcanic-eruptions-ingv-oe                                                           \n",
    "1. 你選的這組資料為何重要                                                                                                         \n",
    "    一旦火山爆發，無論是動、植物均會受到嚴重影響。除了會造成氣候異常、農作物歉收、影響飛行安全，甚至會造成生命的危害，最有名案例為龐貝城。   \n",
    "    若能分析出火山下次噴發的時間，就能更早的撤離周遭的居民，挽救了成千上萬人的生命，減輕損害。                                           \n",
    "                                                                                                                               \n",
    "2. 資料從何而來 (tips: 譬如提供者是誰、以什麼方式蒐集)                                                                             \n",
    "   資料來自火山周圍排列的十個不同傳感器的每十分鐘的紀錄。                                                                           \n",
    "                                                                                                                               \n",
    "3. 蒐集而來的資料型態為何                                                                                                         \n",
    "   結構化資料: csv檔。                                                                                                           \n",
    "                                                                                                                               \n",
    "4. 這組資料想解決的問題如何評估                                                                                                   \n",
    "   怎麼樣的地震信號是火山活動的前兆 -> 火山何時會進行下一次噴發:ROC曲線(是一種坐標圖式的分析工具，是信號檢測理論)。                                                                                                                                                       \n",
    "\n",
    "# [作業3]\n",
    "\n",
    "想像你經營一個自由載客車隊，你希望能透過數據分析以提升業績，請你思考並描述你如何規劃整體的分析/解決方案：\n",
    "\n",
    "1. 核心問題為何 (tips：如何定義 「提升業績 & 你的假設」)                                                                           \n",
    "    如何透過顧客旅程和叫車紀錄，來增進顧客忠誠度，以及該如何分配空車數?                                                               \n",
    "    顧客旅程包括：過去、現在以及未來的顧客體驗。                                                                                   \n",
    "    ●過去:顧客可透過網路、APP評價，產生品牌的初步印象，決定是否搭乘我們車隊的車。                                                     \n",
    "    ●現在:顧客可透過與司機的互動和是否能快速搭到車，來產生對此次服務的滿意程度。                                                       \n",
    "    ●未來:顧客可透過上面兩個時期的感受，來決定是否再次消費、或是向別人推薦。                                                           \n",
    "    我們可從與顧客的每個互動紀錄中，去判斷每一個接觸點的有效性與體驗價值，來建立分析。針對服務缺失進行改進，來提升顧客的滿意度，建立顧客的忠\n",
    "    誠度，除了可維持客源，還能發掘新客源(舊客人推薦)。                                                                               \n",
    "                                                                                                                               \n",
    "2. 資料從何而來 (tips：哪些資料可能會對你想問的問題產生影響 & 資料如何蒐集)                                                           \n",
    "   資料來源包含                                                                                                                 \n",
    "   ● APP、電話叫車紀錄                                                                                                           \n",
    "   ●顧客回饋                                                                                                                     \n",
    "   ●行車紀錄器                                                                                                                   \n",
    "   資料內容                                                                                                                     \n",
    "   ●顧客電話                                                                                                                     \n",
    "   ●顧客叫車時間                                                                                                                 \n",
    "   ●顧客上車地點                                                                                                                 \n",
    "   ●顧客下車地點                                                                                                                 \n",
    "   ●本次消費金額                                                                                                                 \n",
    "   ●顧客滿意度、回饋(包含優、缺點)                                                                                                 \n",
    "                                                                                                                               \n",
    "3. 蒐集而來的資料型態為何                                                                                                         \n",
    "    結構化資料:CSV檔、表格                                                                                                       \n",
    "    非結構化:文字、音訊、行車影片                                                                                                 \n",
    "                                                                                                                               \n",
    "4. 你要回答的問題，其如何評估 (tips：你的假設如何驗證)                                                                             \n",
    "    透過APP、電話叫車等紀錄分析出顧客消費習性，判斷出某個時段、地點客源的數量(例如:交通工具到站時間)，來分配空車，避免顧客和車輛不對等的情\n",
    "    況產生，造成顧客滿意度降低或空車過多問題。                                                                                     \n",
    "    另外，可透過提升顧客滿意度、忠誠度，來維持原客源和發掘新客源。                                                                   "
   ]
  }
 ],
 "metadata": {
  "anaconda-cloud": {},
  "kernelspec": {
   "display_name": "Python 3",
   "language": "python",
   "name": "python3"
  },
  "language_info": {
   "codemirror_mode": {
    "name": "ipython",
    "version": 3
   },
   "file_extension": ".py",
   "mimetype": "text/x-python",
   "name": "python",
   "nbconvert_exporter": "python",
   "pygments_lexer": "ipython3",
   "version": "3.7.4"
  }
 },
 "nbformat": 4,
 "nbformat_minor": 1
}

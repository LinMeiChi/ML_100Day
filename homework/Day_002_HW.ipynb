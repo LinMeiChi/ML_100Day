{
 "cells": [
  {
   "cell_type": "markdown",
   "metadata": {},
   "source": [
    "## [作業目標]\n",
    "了解機器學習適合應用的領域與範疇。"
   ]
  },
  {
   "cell_type": "markdown",
   "metadata": {},
   "source": [
    "## [作業重點]\n",
    "透過瞭解機器學習的運作方式，找出非常適用機器學習應用的領域及其原因"
   ]
  },
  {
   "cell_type": "markdown",
   "metadata": {},
   "source": [
    "## 作業\n",
    "請找出一個你認為機器學習可以發光發熱的領域並闡述原因? "
   ]
  },
  {
   "cell_type": "code",
   "execution_count": null,
   "metadata": {},
   "outputs": [],
   "source": [
    "機器學習可運用於醫療、生活、語音辨識、自動汽車駕駛...等各項領域，但我認為機器學習最能發光發熱的領域在於醫療上。                            \n",
    "主要的原因有下列幾項:\n",
    "●個人對於醫療方面的研究，較有興趣。\n",
    "●目前機器學習在醫療技術上，可用來輔助醫生在視網膜病變、糖尿病、癌症等病狀上的判斷，能降低篩檢費時、成本高、低準確、仰賴人工判斷等缺點。\n",
    "●對於高齡化社會，老年人的長照問題是我們所重視的。機器學習可讓醫療和電子結合，例如:防摔手環。我們可透過特殊的穿戴裝置，對年長者的身體狀況進行及時控管和注意，降低憾事發生。"
   ]
  }
 ],
 "metadata": {
  "kernelspec": {
   "display_name": "Python 3",
   "language": "python",
   "name": "python3"
  },
  "language_info": {
   "codemirror_mode": {
    "name": "ipython",
    "version": 3
   },
   "file_extension": ".py",
   "mimetype": "text/x-python",
   "name": "python",
   "nbconvert_exporter": "python",
   "pygments_lexer": "ipython3",
   "version": "3.7.4"
  }
 },
 "nbformat": 4,
 "nbformat_minor": 2
}
